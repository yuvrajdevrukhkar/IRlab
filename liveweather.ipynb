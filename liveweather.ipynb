{
  "nbformat": 4,
  "nbformat_minor": 0,
  "metadata": {
    "colab": {
      "provenance": []
    },
    "kernelspec": {
      "name": "python3",
      "display_name": "Python 3"
    },
    "language_info": {
      "name": "python"
    }
  },
  "cells": [
    {
      "cell_type": "code",
      "execution_count": 8,
      "metadata": {
        "colab": {
          "base_uri": "https://localhost:8080/",
          "height": 0
        },
        "id": "TwFqjJ-_xUCY",
        "outputId": "a4a4725d-0acd-4122-aa08-a923fa9d3824"
      },
      "outputs": [
        {
          "output_type": "stream",
          "name": "stdout",
          "text": [
            "Requirement already satisfied: pyowm in /usr/local/lib/python3.10/dist-packages (3.3.0)\n",
            "Requirement already satisfied: requests<3,>=2.20.0 in /usr/local/lib/python3.10/dist-packages (from pyowm) (2.31.0)\n",
            "Requirement already satisfied: geojson<3,>=2.3.0 in /usr/local/lib/python3.10/dist-packages (from pyowm) (2.5.0)\n",
            "Requirement already satisfied: PySocks<2,>=1.7.1 in /usr/local/lib/python3.10/dist-packages (from pyowm) (1.7.1)\n",
            "Requirement already satisfied: charset-normalizer<4,>=2 in /usr/local/lib/python3.10/dist-packages (from requests<3,>=2.20.0->pyowm) (3.3.1)\n",
            "Requirement already satisfied: idna<4,>=2.5 in /usr/local/lib/python3.10/dist-packages (from requests<3,>=2.20.0->pyowm) (3.4)\n",
            "Requirement already satisfied: urllib3<3,>=1.21.1 in /usr/local/lib/python3.10/dist-packages (from requests<3,>=2.20.0->pyowm) (2.0.7)\n",
            "Requirement already satisfied: certifi>=2017.4.17 in /usr/local/lib/python3.10/dist-packages (from requests<3,>=2.20.0->pyowm) (2023.7.22)\n"
          ]
        }
      ],
      "source": [
        "pip install pyowm"
      ]
    },
    {
      "cell_type": "code",
      "source": [
        "import pyowm\n",
        "\n",
        "def get_weather(api_key, city):\n",
        "    owm = pyowm.OWM(api_key)\n",
        "    observation = owm.weather_manager().weather_at_place(city)\n",
        "\n",
        "    weather = observation.weather\n",
        "    temperature = weather.temperature('celsius')['temp']\n",
        "    wind_speed = weather.wind()['speed']\n",
        "    description = weather.detailed_status\n",
        "    weather_status = weather.status\n",
        "\n",
        "    print(f\"Weather in {city}:\")\n",
        "    print(f\"Temperature: {temperature:.2f}°C\")\n",
        "    print(f\"Wind Speed: {wind_speed} m/s\")\n",
        "    print(f\"Description: {description}\")\n",
        "    print(f\"Weather: {weather_status}\")\n",
        "\n",
        "if __name__ == \"__main__\":\n",
        "\n",
        "    api_key = 'e45aa593ddb4d972c7b5871ad774a59b'\n",
        "    city = input(\"Enter the city name: \")\n",
        "    get_weather(api_key, city)\n"
      ],
      "metadata": {
        "colab": {
          "base_uri": "https://localhost:8080/",
          "height": 0
        },
        "id": "CCGrioKSxlsB",
        "outputId": "3cdae025-3f44-462b-d349-b4462d2d119d"
      },
      "execution_count": 9,
      "outputs": [
        {
          "output_type": "stream",
          "name": "stdout",
          "text": [
            "Enter the city name: Pune\n",
            "Weather in Pune:\n",
            "Temperature: 22.22°C\n",
            "Wind Speed: 1.33 m/s\n",
            "Description: broken clouds\n",
            "Weather: Clouds\n"
          ]
        }
      ]
    }
  ]
}